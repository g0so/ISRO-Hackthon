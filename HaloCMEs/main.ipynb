{
 "cells": [
  {
   "cell_type": "code",
   "execution_count": 6,
   "id": "8ab1fbd3",
   "metadata": {},
   "outputs": [],
   "source": [
    "import cdflib\n",
    "import pandas as pd\n",
    "from datetime import datetime, timedelta\n",
    "import matplotlib.pyplot as plt"
   ]
  },
  {
   "cell_type": "code",
   "execution_count": null,
   "id": "7e50b87c",
   "metadata": {},
   "outputs": [
    {
     "ename": "FileNotFoundError",
     "evalue": "D:\\ISRO Hackthon\\HaloCMEs\\HaloCMEs\\Data\\AL1_ASW91_L2_TH2_20250626_UNP_9999_999999_V02.cdf not found",
     "output_type": "error",
     "traceback": [
      "\u001b[31m---------------------------------------------------------------------------\u001b[39m",
      "\u001b[31mFileNotFoundError\u001b[39m                         Traceback (most recent call last)",
      "\u001b[36mCell\u001b[39m\u001b[36m \u001b[39m\u001b[32mIn[7]\u001b[39m\u001b[32m, line 1\u001b[39m\n\u001b[32m----> \u001b[39m\u001b[32m1\u001b[39m cdf_file = \u001b[43mcdflib\u001b[49m\u001b[43m.\u001b[49m\u001b[43mCDF\u001b[49m\u001b[43m(\u001b[49m\u001b[33;43m'\u001b[39;49m\u001b[33;43mHaloCMEs/Data/AL1_ASW91_L2_TH2_20250626_UNP_9999_999999_V02.cdf\u001b[39;49m\u001b[33;43m'\u001b[39;49m\u001b[43m)\u001b[49m\n\u001b[32m      2\u001b[39m \u001b[38;5;28mprint\u001b[39m(\u001b[33m\"\u001b[39m\u001b[33mVariables in CDF:\u001b[39m\u001b[33m\"\u001b[39m)\n\u001b[32m      3\u001b[39m \u001b[38;5;28mprint\u001b[39m(cdf_file.cdf_info())\n",
      "\u001b[36mFile \u001b[39m\u001b[32m~\\AppData\\Local\\Packages\\PythonSoftwareFoundation.Python.3.12_qbz5n2kfra8p0\\LocalCache\\local-packages\\Python312\\site-packages\\cdflib\\cdfread.py:91\u001b[39m, in \u001b[36mCDF.__init__\u001b[39m\u001b[34m(self, path, validate, string_encoding, s3_read_method)\u001b[39m\n\u001b[32m     89\u001b[39m     path = path.with_suffix(\u001b[33m\"\u001b[39m\u001b[33m.cdf\u001b[39m\u001b[33m\"\u001b[39m)\n\u001b[32m     90\u001b[39m     \u001b[38;5;28;01mif\u001b[39;00m \u001b[38;5;129;01mnot\u001b[39;00m path.is_file():\n\u001b[32m---> \u001b[39m\u001b[32m91\u001b[39m         \u001b[38;5;28;01mraise\u001b[39;00m \u001b[38;5;167;01mFileNotFoundError\u001b[39;00m(\u001b[33mf\u001b[39m\u001b[33m\"\u001b[39m\u001b[38;5;132;01m{\u001b[39;00mpath\u001b[38;5;132;01m}\u001b[39;00m\u001b[33m not found\u001b[39m\u001b[33m\"\u001b[39m)\n\u001b[32m     92\u001b[39m \u001b[38;5;28mself\u001b[39m.file = path  \u001b[38;5;66;03m# path for files, fname for urls and S3\u001b[39;00m\n\u001b[32m     93\u001b[39m \u001b[38;5;28mself\u001b[39m.file = path\n",
      "\u001b[31mFileNotFoundError\u001b[39m: D:\\ISRO Hackthon\\HaloCMEs\\HaloCMEs\\Data\\AL1_ASW91_L2_TH2_20250626_UNP_9999_999999_V02.cdf not found"
     ]
    }
   ],
   "source": [
    "cdf_file = cdflib.CDF('HaloCMEs/Data/AL1_ASW91_L2_BLK_20250626_UNP_9999_999999_V02.cdf')\n",
    "print(\"Variables in CDF:\")\n",
    "print(cdf_file.cdf_info())"
   ]
  },
  {
   "cell_type": "code",
   "execution_count": null,
   "id": "669d56c3",
   "metadata": {},
   "outputs": [],
   "source": []
  }
 ],
 "metadata": {
  "kernelspec": {
   "display_name": "Python 3",
   "language": "python",
   "name": "python3"
  },
  "language_info": {
   "codemirror_mode": {
    "name": "ipython",
    "version": 3
   },
   "file_extension": ".py",
   "mimetype": "text/x-python",
   "name": "python",
   "nbconvert_exporter": "python",
   "pygments_lexer": "ipython3",
   "version": "3.12.10"
  }
 },
 "nbformat": 4,
 "nbformat_minor": 5
}
