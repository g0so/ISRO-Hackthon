{
 "cells": [
  {
   "cell_type": "code",
   "execution_count": 2,
   "id": "e9b8e387",
   "metadata": {},
   "outputs": [],
   "source": [
    "import cdflib\n",
    "import pandas as pd\n",
    "from datetime import datetime, timedelta\n",
    "import matplotlib.pyplot as plt\n",
    "import os\n",
    "from pathlib import Path\n",
    "os.chdir(r'D:/ISRO Hackthon')"
   ]
  },
  {
   "cell_type": "code",
   "execution_count": 8,
   "id": "7309d109",
   "metadata": {},
   "outputs": [
    {
     "ename": "AttributeError",
     "evalue": "'CDF' object has no attribute 'rvariables'",
     "output_type": "error",
     "traceback": [
      "\u001b[31m---------------------------------------------------------------------------\u001b[39m",
      "\u001b[31mAttributeError\u001b[39m                            Traceback (most recent call last)",
      "\u001b[36mCell\u001b[39m\u001b[36m \u001b[39m\u001b[32mIn[8]\u001b[39m\u001b[32m, line 8\u001b[39m\n\u001b[32m      5\u001b[39m cdf_file = cdflib.CDF(\u001b[38;5;28mstr\u001b[39m(cdf_path))\n\u001b[32m      7\u001b[39m \u001b[38;5;66;03m# List all variable names in the CDF file\u001b[39;00m\n\u001b[32m----> \u001b[39m\u001b[32m8\u001b[39m \u001b[38;5;28mprint\u001b[39m(\u001b[33m\"\u001b[39m\u001b[33mVariables in the CDF file:\u001b[39m\u001b[33m\"\u001b[39m, \u001b[43mcdf_file\u001b[49m\u001b[43m.\u001b[49m\u001b[43mrvariables\u001b[49m)\n\u001b[32m     10\u001b[39m \u001b[38;5;66;03m# Read a variable (replace 'epoch_for_cdf_mod' with the actual variable name you want)\u001b[39;00m\n\u001b[32m     11\u001b[39m data = cdf_file.varget(\u001b[33m'\u001b[39m\u001b[33mepoch_for_cdf_mod\u001b[39m\u001b[33m'\u001b[39m)\n",
      "\u001b[31mAttributeError\u001b[39m: 'CDF' object has no attribute 'rvariables'"
     ]
    }
   ],
   "source": [
    "# Path to your CDF file\n",
    "cdf_path = Path(\"HaloCMEs/Data/AL1_ASW91_L2_BLK_20241210_UNP_9999_999999_V02.cdf\")\n",
    "\n",
    "# Open the CDF file\n",
    "cdf_file = cdflib.CDF(str(cdf_path))\n",
    "\n",
    "# List all variable names in the CDF file\n",
    "print(\"Variables in the CDF file:\", cdf_file.rvariables)\n",
    "\n",
    "# Read a variable (replace 'epoch_for_cdf_mod' with the actual variable name you want)\n",
    "data = cdf_file.varget('epoch_for_cdf_mod')\n",
    "print(data)"
   ]
  },
  {
   "cell_type": "code",
   "execution_count": null,
   "id": "bca24ce8",
   "metadata": {},
   "outputs": [],
   "source": []
  }
 ],
 "metadata": {
  "kernelspec": {
   "display_name": "Python 3",
   "language": "python",
   "name": "python3"
  },
  "language_info": {
   "codemirror_mode": {
    "name": "ipython",
    "version": 3
   },
   "file_extension": ".py",
   "mimetype": "text/x-python",
   "name": "python",
   "nbconvert_exporter": "python",
   "pygments_lexer": "ipython3",
   "version": "3.12.10"
  }
 },
 "nbformat": 4,
 "nbformat_minor": 5
}
