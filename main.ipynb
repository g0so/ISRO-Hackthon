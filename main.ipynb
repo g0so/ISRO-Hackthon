{
  "cells": [
    {
      "cell_type": "code",
      "execution_count": null,
      "id": "8ab1fbd3",
      "metadata": {
        "id": "8ab1fbd3"
      },
      "outputs": [],
      "source": [
        "import matplotlib.pyplot as plt"
      ]
    }
  ],
  "metadata": {
    "language_info": {
      "name": "python"
    },
    "colab": {
      "provenance": []
    },
    "kernelspec": {
      "name": "python3",
      "display_name": "Python 3"
    }
  },
  "nbformat": 4,
  "nbformat_minor": 5
}